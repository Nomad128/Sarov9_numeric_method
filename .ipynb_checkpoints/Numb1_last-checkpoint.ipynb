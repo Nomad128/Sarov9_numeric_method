{
 "cells": [
  {
   "cell_type": "code",
   "execution_count": 3,
   "metadata": {
    "collapsed": true,
    "pycharm": {
     "name": "#%%\n"
    }
   },
   "outputs": [],
   "source": [
    "import matplotlib.pyplot as plt\n",
    "%matplotlib inline\n",
    "import numpy as np\n",
    "t_step = 0.05\n",
    "# t_step = 0.4\n",
    "# b = 4.99\n",
    "const = 1\n",
    "#\n"
   ]
  },
  {
   "cell_type": "markdown",
   "metadata": {},
   "source": [
    "---\n",
    "# Решение дифференциального уравнения методом Эйлера и неявной схемой\n",
    "\n",
    "Выполнил студент 1го года магистратуры физического факультета филиала МГУ\n",
    "в городе Сарове:\n",
    "Пономаренко Дмитрий Сергеевич\n",
    "\n",
    "## Общий вид уравнения\n",
    "Уравнение имеет вид:"
   ]
  },
  {
   "cell_type": "markdown",
   "metadata": {},
   "source": [
    "\\begin{equation} \n",
    "    \\left\\{ \\begin{array}{c}\n",
    "    f(t,x) = - (t - \\frac{t^2}{2} + \\frac{t^3}{6}\n",
    "\n",
    "\\end{equation}"
   ]
  },
  {
   "cell_type": "markdown",
   "metadata": {
    "pycharm": {
     "name": "#%% md\n"
    }
   },
   "source": []
  }
 ],
 "metadata": {
  "kernelspec": {
   "display_name": "Python 3 (ipykernel)",
   "language": "python",
   "name": "python3"
  },
  "language_info": {
   "codemirror_mode": {
    "name": "ipython",
    "version": 3
   },
   "file_extension": ".py",
   "mimetype": "text/x-python",
   "name": "python",
   "nbconvert_exporter": "python",
   "pygments_lexer": "ipython3",
   "version": "3.8.10"
  }
 },
 "nbformat": 4,
 "nbformat_minor": 1
}
