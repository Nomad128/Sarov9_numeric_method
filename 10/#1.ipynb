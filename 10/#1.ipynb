{
 "cells": [
  {
   "cell_type": "code",
   "execution_count": 1,
   "metadata": {
    "collapsed": true,
    "pycharm": {
     "name": "#%%\n"
    }
   },
   "outputs": [
    {
     "name": "stdout",
     "output_type": "stream",
     "text": [
      "Using matplotlib backend: Qt5Agg\n"
     ]
    }
   ],
   "source": [
    "import matplotlib.pyplot as plt\n",
    "import numpy as np\n",
    "from matplotlib import cm\n",
    "import time\n",
    "%matplotlib"
   ]
  },
  {
   "cell_type": "code",
   "execution_count": 4,
   "outputs": [],
   "source": [
    "Nx = 256;\n",
    "X = 10;\n",
    "dx = X/Nx;\n",
    "x = np.linspace(-X/2,X/2,Nx,endpoint=True)\n",
    "# x = dx * np.arange(-Nx/2,Nx/2+1);\n",
    "\n",
    "Nt = 100;\n",
    "dt = 1. /Nt;"
   ],
   "metadata": {
    "collapsed": false,
    "pycharm": {
     "name": "#%%\n"
    }
   }
  },
  {
   "cell_type": "markdown",
   "source": [],
   "metadata": {
    "collapsed": false,
    "pycharm": {
     "name": "#%% md\n"
    }
   }
  },
  {
   "cell_type": "code",
   "execution_count": 6,
   "outputs": [],
   "source": [
    "T = np.zeros(Nx);\n",
    "A = np.zeros(Nx) + 1.0;\n",
    "B = np.zeros(Nx) -2.0 * (1 + dx**2/dt);\n",
    "C = np.zeros(Nx) + 1.0;\n",
    "\n",
    "C[0] = 0;\n",
    "A[-1] = 0;\n",
    "# B[0] = 1\n",
    "# B[-1] = 1\n",
    "t = 0.;\n",
    "T = np.exp(-x**2);\n",
    "plt.plot(x,T);\n",
    "plt.pause(1);\n",
    "for idt in range(Nt):\n",
    "    F = np.zeros(Nx);\n",
    "    alpha = np.zeros(Nx);\n",
    "    beta = np.zeros(Nx);\n",
    "\n",
    "    t = t + dt;\n",
    "    for idx in range(1,Nx-1):\n",
    "        F[idx] = -T[idx-1] + 2 *(1 - dx**2/dt) * T[idx] - T[idx+1];\n",
    "\n",
    "    F[0] = 0;\n",
    "    F[-1] = 0;\n",
    "\n",
    "    alpha[1] = -C[0]/B[0];\n",
    "    beta[1] = F[0]/B[0];\n",
    "    for i in range(1,Nx-1):\n",
    "        alpha[i+1]= -C[i]/(A[i]*alpha[i] + B[i]);\n",
    "        beta[i+1] = alpha[i+1]/C[i]*(A[i]*beta[i] - F[i]);\n",
    "\n",
    "    T[-1] = (F[-1] - A[-1]*beta[-1])/(A[-1]*alpha[-1] + B[-1]);\n",
    "    for i in range(Nx-1,0,-1):\n",
    "        T[i-1] = alpha[i] * T[i] + beta[i];\n",
    "    Ta = (4*t + 1)**(-0.5) * np.exp(-x**2/(4*t+1))\n",
    "    plt.clf()\n",
    "    plt.plot(x,Ta)\n",
    "    plt.plot(x[::10],T[::10],marker='o',markerfacecolor='r',linestyle='',markersize=3);\n",
    "    plt.legend(['analytic','num'])\n",
    "    plt.title(f'{t:0.2f}');\n",
    "    plt.pause(0.2)"
   ],
   "metadata": {
    "collapsed": false,
    "pycharm": {
     "name": "#%%\n"
    }
   }
  },
  {
   "cell_type": "code",
   "execution_count": 3,
   "outputs": [],
   "source": [],
   "metadata": {
    "collapsed": false,
    "pycharm": {
     "name": "#%%\n"
    }
   }
  }
 ],
 "metadata": {
  "kernelspec": {
   "display_name": "Python 3",
   "language": "python",
   "name": "python3"
  },
  "language_info": {
   "codemirror_mode": {
    "name": "ipython",
    "version": 2
   },
   "file_extension": ".py",
   "mimetype": "text/x-python",
   "name": "python",
   "nbconvert_exporter": "python",
   "pygments_lexer": "ipython2",
   "version": "2.7.6"
  }
 },
 "nbformat": 4,
 "nbformat_minor": 0
}