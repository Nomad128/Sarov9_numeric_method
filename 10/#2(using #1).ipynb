{
 "cells": [
  {
   "cell_type": "code",
   "execution_count": 118,
   "metadata": {
    "pycharm": {
     "name": "#%%\n"
    }
   },
   "outputs": [],
   "source": [
    "import time\n",
    "\n",
    "import matplotlib\n",
    "import matplotlib.pyplot as plt\n",
    "import numpy as np\n",
    "from matplotlib import cm"
   ]
  },
  {
   "cell_type": "code",
   "execution_count": 119,
   "metadata": {
    "pycharm": {
     "name": "#%%\n"
    }
   },
   "outputs": [
    {
     "name": "stdout",
     "output_type": "stream",
     "text": [
      "Using matplotlib backend: Qt5Agg\n"
     ]
    }
   ],
   "source": [
    "%matplotlib"
   ]
  },
  {
   "cell_type": "code",
   "execution_count": 120,
   "metadata": {
    "pycharm": {
     "name": "#%%\n"
    }
   },
   "outputs": [],
   "source": [
    "Nx = 128;\n",
    "X = 5;\n",
    "dx = X/Nx;\n",
    "x = np.linspace(-X/2,X/2,Nx,endpoint=True)\n",
    "\n",
    "hi = 1/2j;\n",
    "# hi = 1\n",
    "\n",
    "Ny = 64;\n",
    "Y = X;\n",
    "dy = Y/Ny;\n",
    "y = np.linspace(-Y/2,Y/2,Ny,endpoint=True)\n",
    "\n",
    "f = 0.25;"
   ]
  },
  {
   "cell_type": "markdown",
   "metadata": {
    "pycharm": {
     "name": "#%% md\n"
    }
   },
   "source": []
  },
  {
   "cell_type": "code",
   "execution_count": 121,
   "metadata": {
    "pycharm": {
     "name": "#%%\n"
    }
   },
   "outputs": [],
   "source": [
    "x1 , y1 = 0. , -0.\n",
    "# x2 , y2 = -1 , 0.6\n",
    "# x3 , y3 = 0.7 , -0.4\n",
    "# x4 , y4 = 0.7 , -0.4\n",
    "# x5 , y5 = 0.7 , -0.4\n",
    "\n",
    "# x_m , y_m = [x1,x2,x3,x4,x5] , [y1,y2,y3,y4,y5]\n",
    "x_m , y_m = [x1] , [y1]\n"
   ]
  },
  {
   "cell_type": "code",
   "execution_count": 122,
   "metadata": {
    "pycharm": {
     "name": "#%%\n"
    }
   },
   "outputs": [],
   "source": [
    "nxy , nyx = np.meshgrid(y,x)"
   ]
  },
  {
   "cell_type": "code",
   "execution_count": 123,
   "metadata": {
    "pycharm": {
     "name": "#%%\n"
    }
   },
   "outputs": [],
   "source": [
    "E_lens = np.exp(-1j*(nxy**2 + nyx**2)/(2*f))"
   ]
  },
  {
   "cell_type": "code",
   "execution_count": 124,
   "metadata": {
    "pycharm": {
     "name": "#%%\n"
    }
   },
   "outputs": [],
   "source": [
    "E0 =np.zeros([Nx,Ny])\n",
    "for ind in range(len(x_m)):\n",
    "    # x0 , y0 = np.meshgrid(x - x[ind], y - y[ind])\n",
    "    E_ = np.exp(-((nxy-x_m[ind])**2 + (nyx-y_m[ind])**2)/2)\n",
    "    E0 += np.copy(E_)"
   ]
  },
  {
   "cell_type": "code",
   "execution_count": 125,
   "metadata": {
    "pycharm": {
     "name": "#%%\n"
    }
   },
   "outputs": [],
   "source": [
    "E_s = E0\n",
    "# E_s = E0"
   ]
  },
  {
   "cell_type": "code",
   "execution_count": 126,
   "metadata": {
    "pycharm": {
     "name": "#%%\n"
    }
   },
   "outputs": [],
   "source": [
    "plt.imshow(np.abs(E_s)**2,extent = (-X/2,X/2,-Y/2,Y/2))\n",
    "plt.colorbar()\n",
    "plt.show()"
   ]
  },
  {
   "cell_type": "code",
   "execution_count": 127,
   "metadata": {
    "pycharm": {
     "name": "#%%\n"
    }
   },
   "outputs": [],
   "source": [
    "# Nz = 100\n",
    "# dz = 1./Nz\n",
    "#\n",
    "# Ax = np.zeros(Nx) + 1.0\n",
    "# Bx = np.zeros(Nx) -2.0 * (1 + dx**2/dz/hi)\n",
    "# Cx = np.zeros(Nx) + 1.0\n",
    "#\n",
    "# Cx[0] = 0.\n",
    "# Ax[-1] = 0.\n",
    "# # Bx[0] = 1.\n",
    "# # Bx[-1] = 1.\n",
    "#\n",
    "# Ay = np.zeros(Ny) + 1.0\n",
    "# By = np.zeros(Ny) -2.0 * (1 + dy**2/dz/hi)\n",
    "# Cy = np.zeros(Ny) + 1.0\n",
    "#\n",
    "#\n",
    "# Cy[0] = 0\n",
    "# Ay[-1] = 0\n",
    "# By[0] = 1\n",
    "# By[-1] = 1\n"
   ]
  },
  {
   "cell_type": "code",
   "execution_count": 128,
   "outputs": [],
   "source": [
    "\n",
    "# A = np.zeros(Ny) + 1.0\n",
    "# B = np.zeros(Ny) -2.0 * (1 + dy**2/dz/hi)\n",
    "# C = np.zeros(Ny) + 1.0\n",
    "#\n",
    "#\n",
    "# C[0] = 0\n",
    "# A[-1] = 0\n",
    "# B[0] = 1\n",
    "# B[-1] = 1"
   ],
   "metadata": {
    "collapsed": false,
    "pycharm": {
     "name": "#%%\n"
    }
   }
  },
  {
   "cell_type": "code",
   "execution_count": 129,
   "metadata": {
    "pycharm": {
     "name": "#%%\n"
    }
   },
   "outputs": [
    {
     "name": "stderr",
     "output_type": "stream",
     "text": [
      "C:\\Users\\dimon\\AppData\\Local\\Temp/ipykernel_19640/2505924851.py:19: MatplotlibDeprecationWarning: shading='flat' when X and Y have the same dimensions as C is deprecated since 3.3.  Either specify the corners of the quadrilaterals with X and Y, or pass shading='auto', 'nearest' or 'gouraud', or set rcParams['pcolor.shading'].  This will become an error two minor releases later.\n",
      "  ims11 = ax12.pcolormesh(nxy,nyx,Eanprint,linestyle = ':',edgecolor='none',cmap=cm.coolwarm);\n",
      "C:\\Users\\dimon\\AppData\\Local\\Temp/ipykernel_19640/2505924851.py:36: MatplotlibDeprecationWarning: shading='flat' when X and Y have the same dimensions as C is deprecated since 3.3.  Either specify the corners of the quadrilaterals with X and Y, or pass shading='auto', 'nearest' or 'gouraud', or set rcParams['pcolor.shading'].  This will become an error two minor releases later.\n",
      "  ims12 = ax14.pcolormesh(nxy,nyx,Ep,linestyle = ':',edgecolor='none',cmap=cm.coolwarm);\n"
     ]
    },
    {
     "data": {
      "text/plain": "''"
     },
     "execution_count": 129,
     "metadata": {},
     "output_type": "execute_result"
    }
   ],
   "source": [
    "plt.clf()\n",
    "z = 0;\n",
    "Ean = 1/(1 - z/f - 1j*z) * np.exp(-(nxy**2 + nyx**2)/2 *(1+1j*(z - 1/f *(1-z/f)))/((1-z/f)**2+z**2));\n",
    "Eanprint = np.abs(Ean)**2;\n",
    "\n",
    "Ep = np.abs(E_s)**2;\n",
    "\n",
    "plt.show()\n",
    "fig1 = plt.figure(1);\n",
    "ax11 = fig1.add_subplot(2,2,1,projection='3d')\n",
    "ax11.plot_surface(nxy,nyx,Eanprint,linestyle = ':',edgecolor='none',cmap=cm.coolwarm);\n",
    "plt.xlabel('X')\n",
    "plt.ylabel('Y')\n",
    "# plt.colorbar();\n",
    "# axis square;\n",
    "plt.title(f'Analytic with z={z:0.2f}\\n f={f}');\n",
    "\n",
    "ax12 = fig1.add_subplot(2,2,3)\n",
    "ims11 = ax12.pcolormesh(nxy,nyx,Eanprint,linestyle = ':',edgecolor='none',cmap=cm.coolwarm);\n",
    "# plt.xlabel('X')\n",
    "# plt.ylabel('Y')\n",
    "plt.colorbar(ims11);\n",
    "plt.title(f'Analytic z ={z:0.2f}');\n",
    "# axis square;\n",
    "# plt.view(2);\n",
    "\n",
    "ax13 = fig1.add_subplot(2,2,2,projection='3d')\n",
    "ax13.plot_surface(nxy,nyx,Ep,linestyle = ':',edgecolor='none',cmap=cm.coolwarm);\n",
    "plt.xlabel('X')\n",
    "plt.ylabel('Y')\n",
    "# plt.colorbar();\n",
    "# axis square;\n",
    "plt.title(f'z={z:0.2f}\\n f={f}');\n",
    "\n",
    "ax14 = fig1.add_subplot(2,2,4)\n",
    "ims12 = ax14.pcolormesh(nxy,nyx,Ep,linestyle = ':',edgecolor='none',cmap=cm.coolwarm);\n",
    "plt.xlabel('X')\n",
    "plt.ylabel('Y')\n",
    "plt.colorbar(ims12);\n",
    "fig1.show()\n",
    "# plt.view(2);\n",
    "# axis square;\n",
    "input()"
   ]
  },
  {
   "cell_type": "code",
   "execution_count": 130,
   "metadata": {
    "pycharm": {
     "name": "#%%\n"
    }
   },
   "outputs": [
    {
     "name": "stderr",
     "output_type": "stream",
     "text": [
      "C:\\Users\\dimon\\AppData\\Local\\Temp/ipykernel_19640/1855201699.py:37: ComplexWarning: Casting complex values to real discards the imaginary part\n",
      "  Fx[idx] = -T[idx-1] + 2 *(1 - dx**2/dz/hi) * T[idx] - T[idx+1];\n",
      "C:\\Users\\dimon\\AppData\\Local\\Temp/ipykernel_19640/1855201699.py:42: ComplexWarning: Casting complex values to real discards the imaginary part\n",
      "  alphax[1] = -Cx[0]/Bx[0];\n",
      "C:\\Users\\dimon\\AppData\\Local\\Temp/ipykernel_19640/1855201699.py:43: ComplexWarning: Casting complex values to real discards the imaginary part\n",
      "  betax[1] = Fx[0]/Bx[0];\n",
      "C:\\Users\\dimon\\AppData\\Local\\Temp/ipykernel_19640/1855201699.py:45: ComplexWarning: Casting complex values to real discards the imaginary part\n",
      "  alphax[i+1]= -Cx[i]/(Ax[i]*alphax[i] + Bx[i]);\n",
      "C:\\Users\\dimon\\AppData\\Local\\Temp/ipykernel_19640/1855201699.py:48: ComplexWarning: Casting complex values to real discards the imaginary part\n",
      "  T[-1] = (Fx[-1] - Ax[-1]*betax[-1])/(Ax[-1]*alphax[-1] + Bx[-1]);\n",
      "C:\\Users\\dimon\\AppData\\Local\\Temp/ipykernel_19640/1855201699.py:73: ComplexWarning: Casting complex values to real discards the imaginary part\n",
      "  Fy[idy] = -T[idy-1] + 2 *(1 - dy**2/dz/hi) * T[idy] - T[idy+1];\n",
      "C:\\Users\\dimon\\AppData\\Local\\Temp/ipykernel_19640/1855201699.py:78: ComplexWarning: Casting complex values to real discards the imaginary part\n",
      "  alphay[1] = -Cy[0]/By[0];\n",
      "C:\\Users\\dimon\\AppData\\Local\\Temp/ipykernel_19640/1855201699.py:79: ComplexWarning: Casting complex values to real discards the imaginary part\n",
      "  betay[1] = Fy[0]/By[0];\n",
      "C:\\Users\\dimon\\AppData\\Local\\Temp/ipykernel_19640/1855201699.py:81: ComplexWarning: Casting complex values to real discards the imaginary part\n",
      "  alphay[i+1]= -Cy[i]/(Ay[i]*alphay[i] + By[i]);\n",
      "C:\\Users\\dimon\\AppData\\Local\\Temp/ipykernel_19640/1855201699.py:84: ComplexWarning: Casting complex values to real discards the imaginary part\n",
      "  T[-1] = (Fy[-1] - Ay[-1]*betay[-1])/(Ay[-1]*alphay[-1] + By[-1]);\n",
      "C:\\Users\\dimon\\AppData\\Local\\Temp/ipykernel_19640/1855201699.py:103: MatplotlibDeprecationWarning: shading='flat' when X and Y have the same dimensions as C is deprecated since 3.3.  Either specify the corners of the quadrilaterals with X and Y, or pass shading='auto', 'nearest' or 'gouraud', or set rcParams['pcolor.shading'].  This will become an error two minor releases later.\n",
      "  ims21 = ax22.pcolormesh(nxy,nyx,Eanprint,linestyle = ':',edgecolor='none',cmap=cm.coolwarm);\n",
      "C:\\Users\\dimon\\AppData\\Local\\Temp/ipykernel_19640/1855201699.py:120: MatplotlibDeprecationWarning: shading='flat' when X and Y have the same dimensions as C is deprecated since 3.3.  Either specify the corners of the quadrilaterals with X and Y, or pass shading='auto', 'nearest' or 'gouraud', or set rcParams['pcolor.shading'].  This will become an error two minor releases later.\n",
      "  ims22 = ax24.pcolormesh(nxy,nyx,Ep,linestyle = ':',edgecolor='none',cmap=cm.coolwarm);\n"
     ]
    },
    {
     "ename": "KeyboardInterrupt",
     "evalue": "",
     "output_type": "error",
     "traceback": [
      "\u001B[1;31m---------------------------------------------------------------------------\u001B[0m",
      "\u001B[1;31mKeyboardInterrupt\u001B[0m                         Traceback (most recent call last)",
      "\u001B[1;32m~\\AppData\\Local\\Temp/ipykernel_19640/1855201699.py\u001B[0m in \u001B[0;36m<module>\u001B[1;34m\u001B[0m\n\u001B[0;32m     79\u001B[0m         \u001B[0mbetay\u001B[0m\u001B[1;33m[\u001B[0m\u001B[1;36m1\u001B[0m\u001B[1;33m]\u001B[0m \u001B[1;33m=\u001B[0m \u001B[0mFy\u001B[0m\u001B[1;33m[\u001B[0m\u001B[1;36m0\u001B[0m\u001B[1;33m]\u001B[0m\u001B[1;33m/\u001B[0m\u001B[0mBy\u001B[0m\u001B[1;33m[\u001B[0m\u001B[1;36m0\u001B[0m\u001B[1;33m]\u001B[0m\u001B[1;33m;\u001B[0m\u001B[1;33m\u001B[0m\u001B[1;33m\u001B[0m\u001B[0m\n\u001B[0;32m     80\u001B[0m         \u001B[1;32mfor\u001B[0m \u001B[0mi\u001B[0m \u001B[1;32min\u001B[0m \u001B[0mrange\u001B[0m\u001B[1;33m(\u001B[0m\u001B[1;36m1\u001B[0m\u001B[1;33m,\u001B[0m\u001B[0mNy\u001B[0m\u001B[1;33m-\u001B[0m\u001B[1;36m1\u001B[0m\u001B[1;33m)\u001B[0m\u001B[1;33m:\u001B[0m\u001B[1;33m\u001B[0m\u001B[1;33m\u001B[0m\u001B[0m\n\u001B[1;32m---> 81\u001B[1;33m             \u001B[0malphay\u001B[0m\u001B[1;33m[\u001B[0m\u001B[0mi\u001B[0m\u001B[1;33m+\u001B[0m\u001B[1;36m1\u001B[0m\u001B[1;33m]\u001B[0m\u001B[1;33m=\u001B[0m \u001B[1;33m-\u001B[0m\u001B[0mCy\u001B[0m\u001B[1;33m[\u001B[0m\u001B[0mi\u001B[0m\u001B[1;33m]\u001B[0m\u001B[1;33m/\u001B[0m\u001B[1;33m(\u001B[0m\u001B[0mAy\u001B[0m\u001B[1;33m[\u001B[0m\u001B[0mi\u001B[0m\u001B[1;33m]\u001B[0m\u001B[1;33m*\u001B[0m\u001B[0malphay\u001B[0m\u001B[1;33m[\u001B[0m\u001B[0mi\u001B[0m\u001B[1;33m]\u001B[0m \u001B[1;33m+\u001B[0m \u001B[0mBy\u001B[0m\u001B[1;33m[\u001B[0m\u001B[0mi\u001B[0m\u001B[1;33m]\u001B[0m\u001B[1;33m)\u001B[0m\u001B[1;33m;\u001B[0m\u001B[1;33m\u001B[0m\u001B[1;33m\u001B[0m\u001B[0m\n\u001B[0m\u001B[0;32m     82\u001B[0m             \u001B[0mbetay\u001B[0m\u001B[1;33m[\u001B[0m\u001B[0mi\u001B[0m\u001B[1;33m+\u001B[0m\u001B[1;36m1\u001B[0m\u001B[1;33m]\u001B[0m \u001B[1;33m=\u001B[0m \u001B[0malphay\u001B[0m\u001B[1;33m[\u001B[0m\u001B[0mi\u001B[0m\u001B[1;33m+\u001B[0m\u001B[1;36m1\u001B[0m\u001B[1;33m]\u001B[0m\u001B[1;33m/\u001B[0m\u001B[0mCy\u001B[0m\u001B[1;33m[\u001B[0m\u001B[0mi\u001B[0m\u001B[1;33m]\u001B[0m\u001B[1;33m*\u001B[0m\u001B[1;33m(\u001B[0m\u001B[0mAy\u001B[0m\u001B[1;33m[\u001B[0m\u001B[0mi\u001B[0m\u001B[1;33m]\u001B[0m\u001B[1;33m*\u001B[0m\u001B[0mbetay\u001B[0m\u001B[1;33m[\u001B[0m\u001B[0mi\u001B[0m\u001B[1;33m]\u001B[0m \u001B[1;33m-\u001B[0m \u001B[0mFy\u001B[0m\u001B[1;33m[\u001B[0m\u001B[0mi\u001B[0m\u001B[1;33m]\u001B[0m\u001B[1;33m)\u001B[0m\u001B[1;33m;\u001B[0m\u001B[1;33m\u001B[0m\u001B[1;33m\u001B[0m\u001B[0m\n\u001B[0;32m     83\u001B[0m \u001B[1;33m\u001B[0m\u001B[0m\n",
      "\u001B[1;31mKeyboardInterrupt\u001B[0m: "
     ]
    }
   ],
   "source": [
    "z = 0\n",
    "E = np.copy(E_s)\n",
    "Nz = 25\n",
    "dz = 0.5/Nz\n",
    "\n",
    "\n",
    "\n",
    "for idz in range(Nz):\n",
    "    # plt.clf()\n",
    "\n",
    "    z = z + dz;\n",
    "    Ean = 1/(1 - z/f - 1j*z) * np.exp(-(nxy**2 + nyx**2)/2 *(1+1j*(z - 1/f *(1-z/f)))/((1-z/f)**2+z**2));\n",
    "    Eanprint = abs(Ean)**2;\n",
    "\n",
    "    # цикл по y с дифракцией по x\n",
    "    for step_y in range(Ny):\n",
    "\n",
    "        Fx = np.zeros(Nx);\n",
    "        alphax = np.zeros(Nx);\n",
    "        betax = np.zeros(Nx);\n",
    "\n",
    "        Ax = np.zeros(Nx) + 1.0\n",
    "        Bx = np.zeros(Nx) -2.0 * (1 + dx**2/dz/hi)\n",
    "        Cx = np.zeros(Nx) + 1.0\n",
    "\n",
    "\n",
    "        Cx[0] = 0\n",
    "        Ax[-1] = 0\n",
    "        Bx[0] = 1\n",
    "        Bx[-1] = 1\n",
    "\n",
    "\n",
    "        T = E[:,step_y]\n",
    "        # print(T.shape[0])\n",
    "\n",
    "        for idx in range(1,Nx-1):\n",
    "            Fx[idx] = -T[idx-1] + 2 *(1 - dx**2/dz/hi) * T[idx] - T[idx+1];\n",
    "\n",
    "        Fx[0] = 0;\n",
    "        Fx[Nx-1] = 0;\n",
    "\n",
    "        alphax[1] = -Cx[0]/Bx[0];\n",
    "        betax[1] = Fx[0]/Bx[0];\n",
    "        for i in range(1,Nx-1):\n",
    "            alphax[i+1]= -Cx[i]/(Ax[i]*alphax[i] + Bx[i]);\n",
    "            betax[i+1] = alphax[i+1]/Cx[i]*(Ax[i]*betax[i] - Fx[i]);\n",
    "\n",
    "        T[-1] = (Fx[-1] - Ax[-1]*betax[-1])/(Ax[-1]*alphax[-1] + Bx[-1]);\n",
    "        for i in range(Nx-1,0,-1):\n",
    "            T[i-1] = alphax[i] * T[i] + betax[i];\n",
    "\n",
    "    '''цикл по х с дифракцией по у'''\n",
    "    for step_x in range(Nx):\n",
    "\n",
    "        Fy = np.zeros(Ny);\n",
    "        alphay = np.zeros(Ny);\n",
    "        betay = np.zeros(Ny);\n",
    "\n",
    "        Ay = np.zeros(Ny) + 1.0\n",
    "        By = np.zeros(Ny) -2.0 * (1 + dy**2/dz/hi)\n",
    "        Cy = np.zeros(Ny) + 1.0\n",
    "\n",
    "\n",
    "        Cy[0] = 0\n",
    "        Ay[-1] = 0\n",
    "        By[0] = 1\n",
    "        By[-1] = 1\n",
    "\n",
    "\n",
    "        T = E[step_x,:]\n",
    "\n",
    "        for idy in range(1,Ny-1):\n",
    "            Fy[idy] = -T[idy-1] + 2 *(1 - dy**2/dz/hi) * T[idy] - T[idy+1];\n",
    "\n",
    "        Fy[0] = 0;\n",
    "        Fy[-1] = 0;\n",
    "\n",
    "        alphay[1] = -Cy[0]/By[0];\n",
    "        betay[1] = Fy[0]/By[0];\n",
    "        for i in range(1,Ny-1):\n",
    "            alphay[i+1]= -Cy[i]/(Ay[i]*alphay[i] + By[i]);\n",
    "            betay[i+1] = alphay[i+1]/Cy[i]*(Ay[i]*betay[i] - Fy[i]);\n",
    "\n",
    "        T[-1] = (Fy[-1] - Ay[-1]*betay[-1])/(Ay[-1]*alphay[-1] + By[-1]);\n",
    "        for i in range(Ny-1,0,-1):\n",
    "            T[i-1] = alphay[i] * T[i] + betay[i];\n",
    "\n",
    "\n",
    "\n",
    "\n",
    "    Ep = np.abs(E*E_lens)**2;\n",
    "\n",
    "    fig2 = plt.figure(2);\n",
    "    ax21 = fig2.add_subplot(2,2,1,projection='3d')\n",
    "    ax21.plot_surface(nxy,nyx,Eanprint,linestyle = ':',edgecolor='none',cmap=cm.coolwarm);\n",
    "    plt.xlabel('X')\n",
    "    plt.ylabel('Y')\n",
    "    # plt.colorbar();\n",
    "    # axis square;\n",
    "    plt.title(f'Analytic with z={z:0.2f}\\n f={f}\\t step={idz+1}/{Nz}');\n",
    "\n",
    "    ax22 = fig2.add_subplot(2,2,3)\n",
    "    ims21 = ax22.pcolormesh(nxy,nyx,Eanprint,linestyle = ':',edgecolor='none',cmap=cm.coolwarm);\n",
    "    # plt.xlabel('X')\n",
    "    # plt.ylabel('Y')\n",
    "    plt.colorbar(ims21);\n",
    "    plt.title(f'Analytic z ={z:0.2f}');\n",
    "    # axis square;\n",
    "    # plt.view(2);\n",
    "\n",
    "    ax23 = fig2.add_subplot(2,2,2,projection='3d')\n",
    "    ax23.plot_surface(nxy,nyx,Ep,linestyle = ':',edgecolor='none',cmap=cm.coolwarm);\n",
    "    plt.xlabel('X')\n",
    "    plt.ylabel('Y')\n",
    "    # plt.colorbar();\n",
    "    # axis square;\n",
    "    plt.title(f'z={z:0.2f}\\n f={f}');\n",
    "\n",
    "    ax24 = fig2.add_subplot(2,2,4)\n",
    "    ims22 = ax24.pcolormesh(nxy,nyx,Ep,linestyle = ':',edgecolor='none',cmap=cm.coolwarm);\n",
    "    plt.xlabel('X')\n",
    "    plt.ylabel('Y')\n",
    "    plt.colorbar(ims22);\n",
    "    # plt.view(2);\n",
    "    # axis square;\n",
    "    plt.pause(0.1)\n",
    "    plt.clf()\n",
    "# fig2.show(2)\n"
   ]
  },
  {
   "cell_type": "code",
   "execution_count": null,
   "metadata": {
    "pycharm": {
     "name": "#%%\n"
    }
   },
   "outputs": [],
   "source": []
  }
 ],
 "metadata": {
  "kernelspec": {
   "display_name": "Python 3 (ipykernel)",
   "language": "python",
   "name": "python3"
  },
  "language_info": {
   "codemirror_mode": {
    "name": "ipython",
    "version": 3
   },
   "file_extension": ".py",
   "mimetype": "text/x-python",
   "name": "python",
   "nbconvert_exporter": "python",
   "pygments_lexer": "ipython3",
   "version": "3.9.7"
  }
 },
 "nbformat": 4,
 "nbformat_minor": 1
}