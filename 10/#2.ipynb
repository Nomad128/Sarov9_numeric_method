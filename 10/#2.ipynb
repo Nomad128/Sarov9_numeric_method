{
 "cells": [
  {
   "cell_type": "code",
   "execution_count": 211,
   "metadata": {
    "pycharm": {
     "name": "#%%\n"
    }
   },
   "outputs": [],
   "source": [
    "import time\n",
    "\n",
    "import matplotlib\n",
    "import matplotlib.pyplot as plt\n",
    "import numpy as np\n",
    "from matplotlib import cm"
   ]
  },
  {
   "cell_type": "code",
   "execution_count": 212,
   "metadata": {
    "pycharm": {
     "name": "#%%\n"
    }
   },
   "outputs": [
    {
     "name": "stdout",
     "output_type": "stream",
     "text": [
      "Using matplotlib backend: Qt5Agg\n"
     ]
    }
   ],
   "source": [
    "%matplotlib"
   ]
  },
  {
   "cell_type": "code",
   "execution_count": 213,
   "metadata": {
    "pycharm": {
     "name": "#%%\n"
    }
   },
   "outputs": [],
   "source": [
    "Nx = 128;\n",
    "X = 5;\n",
    "dx = X/Nx;\n",
    "x = np.linspace(-X/2,X/2,Nx,endpoint=True)\n",
    "\n",
    "hi = 1/2j;\n",
    "# hi = 1\n",
    "\n",
    "Ny = Nx;\n",
    "Y = X;\n",
    "dy = Y/Ny;\n",
    "y = np.linspace(-Y/2,Y/2,Ny,endpoint=True)\n",
    "\n",
    "f = 0.5;"
   ]
  },
  {
   "cell_type": "markdown",
   "metadata": {
    "pycharm": {
     "name": "#%% md\n"
    }
   },
   "source": []
  },
  {
   "cell_type": "code",
   "execution_count": 214,
   "metadata": {
    "pycharm": {
     "name": "#%%\n"
    }
   },
   "outputs": [],
   "source": [
    "x1 , y1 = 0. , -0.\n",
    "x2 , y2 = -2.7 , 1.4\n",
    "x3 , y3 = -1.7 , -2.1\n",
    "x4 , y4 = 3.2 , -1.2\n",
    "x5 , y5 = 1.55 , 2.33\n",
    "\n",
    "x_m , y_m = [x1,x2,x3,x4,x5] , [y1,y2,y3,y4,y5]\n",
    "x_m , y_m = [x1] , [y1]\n"
   ]
  },
  {
   "cell_type": "code",
   "execution_count": 215,
   "metadata": {
    "pycharm": {
     "name": "#%%\n"
    }
   },
   "outputs": [],
   "source": [
    "nxy , nyx = np.meshgrid(x,y)"
   ]
  },
  {
   "cell_type": "code",
   "execution_count": 216,
   "metadata": {
    "pycharm": {
     "name": "#%%\n"
    }
   },
   "outputs": [],
   "source": [
    "E_lens = np.exp(1j*(nxy**2 + nyx**2)/(2*f))"
   ]
  },
  {
   "cell_type": "code",
   "execution_count": 217,
   "metadata": {
    "pycharm": {
     "name": "#%%\n"
    }
   },
   "outputs": [],
   "source": [
    "E0 =np.zeros([Nx,Ny],dtype=complex)\n",
    "for ind in range(len(x_m)):\n",
    "    # x0 , y0 = np.meshgrid(x - x[ind], y - y[ind])\n",
    "    E_ = np.exp(-((nxy-x_m[ind])**2 + (nyx-y_m[ind])**2)/2)\n",
    "    E0 += np.copy(E_)"
   ]
  },
  {
   "cell_type": "code",
   "execution_count": 218,
   "metadata": {
    "pycharm": {
     "name": "#%%\n"
    }
   },
   "outputs": [],
   "source": [
    "E_s = E0 * E_lens\n",
    "# E_s = E0"
   ]
  },
  {
   "cell_type": "code",
   "execution_count": 219,
   "metadata": {
    "pycharm": {
     "name": "#%%\n"
    }
   },
   "outputs": [],
   "source": [
    "# plt.imshow(np.abs(E_s)**2,extent = (-X/2,X/2,-Y/2,Y/2))\n",
    "# plt.colorbar()\n",
    "# plt.show()"
   ]
  },
  {
   "cell_type": "code",
   "execution_count": 220,
   "metadata": {
    "pycharm": {
     "name": "#%%\n"
    }
   },
   "outputs": [],
   "source": [
    "Nz = 100\n",
    "dz = 1./Nz\n",
    "\n",
    "Ax = np.zeros(Nx) + 1.0\n",
    "Bx = np.zeros(Nx,dtype=complex) -2.0 * (1 + dx**2/dz/hi)\n",
    "Cx = np.zeros(Nx) + 1.0\n",
    "\n",
    "Cx[0] = 0.\n",
    "Ax[-1] = 0.\n",
    "Bx[0] = 1.\n",
    "Bx[-1] = 1.\n",
    "\n",
    "Ay = np.zeros(Ny) + 1.0\n",
    "By = np.zeros(Ny,dtype=complex) -2.0 * (1 + dy**2/dz/hi)\n",
    "Cy = np.zeros(Ny) + 1.0\n",
    "\n",
    "\n",
    "Cy[0] = 0\n",
    "Ay[-1] = 0\n",
    "By[0] = 1\n",
    "By[-1] = 1\n"
   ]
  },
  {
   "cell_type": "code",
   "execution_count": 221,
   "outputs": [],
   "source": [
    "\n",
    "A = np.zeros(Ny) + 1.0\n",
    "B = np.zeros(Ny,dtype=complex) -2.0 * (1 + dy**2/dz/hi)\n",
    "C = np.zeros(Ny) + 1.0\n",
    "\n",
    "\n",
    "C[0] = 0\n",
    "A[-1] = 0\n",
    "B[0] = 1\n",
    "B[-1] = 1"
   ],
   "metadata": {
    "collapsed": false,
    "pycharm": {
     "name": "#%%\n"
    }
   }
  },
  {
   "cell_type": "code",
   "execution_count": 225,
   "metadata": {
    "pycharm": {
     "name": "#%%\n"
    }
   },
   "outputs": [
    {
     "name": "stderr",
     "output_type": "stream",
     "text": [
      "C:\\Users\\dimon\\AppData\\Local\\Temp/ipykernel_9996/2474151335.py:20: MatplotlibDeprecationWarning: shading='flat' when X and Y have the same dimensions as C is deprecated since 3.3.  Either specify the corners of the quadrilaterals with X and Y, or pass shading='auto', 'nearest' or 'gouraud', or set rcParams['pcolor.shading'].  This will become an error two minor releases later.\n",
      "  ims11 = ax12.pcolormesh(nxy,nyx,Eanprint,linestyle = ':',edgecolor='none',cmap=cm.coolwarm);\n",
      "C:\\Users\\dimon\\AppData\\Local\\Temp/ipykernel_9996/2474151335.py:38: MatplotlibDeprecationWarning: shading='flat' when X and Y have the same dimensions as C is deprecated since 3.3.  Either specify the corners of the quadrilaterals with X and Y, or pass shading='auto', 'nearest' or 'gouraud', or set rcParams['pcolor.shading'].  This will become an error two minor releases later.\n",
      "  ims12 = ax14.pcolormesh(nxy,nyx,Ep,linestyle = ':',edgecolor='none',cmap=cm.coolwarm);\n"
     ]
    }
   ],
   "source": [
    "plt.clf()\n",
    "z = 0;\n",
    "Ean = 1/(1 - z/f - 1j*z) * np.exp(-(nxy**2 + nyx**2)/2 *(1+1j*(z - 1/f *(1-z/f)))/((1-z/f)**2+z**2));\n",
    "Eanprint = np.abs(Ean)**2;\n",
    "\n",
    "Ep = np.abs(E_s)**2;\n",
    "\n",
    "plt.clf()\n",
    "\n",
    "fig1 = plt.figure(1,figsize=(8,6));\n",
    "ax11 = fig1.add_subplot(2,2,1,projection='3d')\n",
    "ax11.plot_surface(nxy,nyx,Eanprint,linestyle = ':',edgecolor='none',cmap=cm.coolwarm);\n",
    "plt.xlabel('X')\n",
    "plt.ylabel('Y')\n",
    "# plt.colorbar();\n",
    "# axis square;\n",
    "plt.title(f'Analytic with z={z:0.2f}\\n f={f}');\n",
    "\n",
    "ax12 = fig1.add_subplot(2,2,3)\n",
    "ims11 = ax12.pcolormesh(nxy,nyx,Eanprint,linestyle = ':',edgecolor='none',cmap=cm.coolwarm);\n",
    "ax12.set_aspect('equal', adjustable='box')\n",
    "plt.xlabel('X')\n",
    "plt.ylabel('Y')\n",
    "plt.colorbar(ims11);\n",
    "plt.title(f'Analytic z ={z:0.2f}');\n",
    "# axis square;\n",
    "# plt.view(2);\n",
    "\n",
    "ax13 = fig1.add_subplot(2,2,2,projection='3d')\n",
    "ax13.plot_surface(nxy,nyx,Ep,linestyle = ':',edgecolor='none',cmap=cm.coolwarm);\n",
    "plt.xlabel('X')\n",
    "plt.ylabel('Y')\n",
    "# plt.colorbar();\n",
    "# axis square;\n",
    "plt.title(f'z={z:0.2f}\\n f={f}');\n",
    "\n",
    "ax14 = fig1.add_subplot(2,2,4)\n",
    "ims12 = ax14.pcolormesh(nxy,nyx,Ep,linestyle = ':',edgecolor='none',cmap=cm.coolwarm);\n",
    "ax14.set_aspect('equal', adjustable='box')\n",
    "plt.xlabel('X')\n",
    "plt.ylabel('Y')\n",
    "plt.colorbar(ims12);\n",
    "fig1.show()\n",
    "plt.tight_layout()\n",
    "# plt.view(2);\n",
    "# axis square;\n"
   ]
  },
  {
   "cell_type": "markdown",
   "source": [],
   "metadata": {
    "collapsed": false,
    "pycharm": {
     "name": "#%% md\n"
    }
   }
  },
  {
   "cell_type": "code",
   "execution_count": 226,
   "outputs": [],
   "source": [
    "input()\n",
    "fig1.show()"
   ],
   "metadata": {
    "collapsed": false,
    "pycharm": {
     "name": "#%%\n"
    }
   }
  },
  {
   "cell_type": "code",
   "execution_count": 227,
   "metadata": {
    "pycharm": {
     "name": "#%%\n"
    }
   },
   "outputs": [
    {
     "name": "stderr",
     "output_type": "stream",
     "text": [
      "C:\\Users\\dimon\\AppData\\Local\\Temp/ipykernel_9996/2293735166.py:126: MatplotlibDeprecationWarning: shading='flat' when X and Y have the same dimensions as C is deprecated since 3.3.  Either specify the corners of the quadrilaterals with X and Y, or pass shading='auto', 'nearest' or 'gouraud', or set rcParams['pcolor.shading'].  This will become an error two minor releases later.\n",
      "  ims21 = ax22.pcolormesh(nxy,nyx,Eanprint,linestyle = ':',edgecolor='none',cmap=cm.coolwarm);\n",
      "C:\\Users\\dimon\\AppData\\Local\\Temp/ipykernel_9996/2293735166.py:144: MatplotlibDeprecationWarning: shading='flat' when X and Y have the same dimensions as C is deprecated since 3.3.  Either specify the corners of the quadrilaterals with X and Y, or pass shading='auto', 'nearest' or 'gouraud', or set rcParams['pcolor.shading'].  This will become an error two minor releases later.\n",
      "  ims22 = ax24.pcolormesh(nxy,nyx,Ep,linestyle = ':',edgecolor='none',cmap=cm.coolwarm);\n"
     ]
    },
    {
     "ename": "KeyboardInterrupt",
     "evalue": "",
     "output_type": "error",
     "traceback": [
      "\u001B[1;31m---------------------------------------------------------------------------\u001B[0m",
      "\u001B[1;31mKeyboardInterrupt\u001B[0m                         Traceback (most recent call last)",
      "\u001B[1;32m~\\AppData\\Local\\Temp/ipykernel_9996/2293735166.py\u001B[0m in \u001B[0;36m<module>\u001B[1;34m\u001B[0m\n\u001B[0;32m    112\u001B[0m             \u001B[1;31m#     E[idx-1,idy] = alphax[idx] * E[idx,idy] + betax[idx]\u001B[0m\u001B[1;33m\u001B[0m\u001B[1;33m\u001B[0m\u001B[0m\n\u001B[0;32m    113\u001B[0m \u001B[1;33m\u001B[0m\u001B[0m\n\u001B[1;32m--> 114\u001B[1;33m     \u001B[0mEp\u001B[0m \u001B[1;33m=\u001B[0m \u001B[0mnp\u001B[0m\u001B[1;33m.\u001B[0m\u001B[0mabs\u001B[0m\u001B[1;33m(\u001B[0m\u001B[0mE\u001B[0m\u001B[1;33m)\u001B[0m\u001B[1;33m**\u001B[0m\u001B[1;36m2\u001B[0m\u001B[1;33m;\u001B[0m\u001B[1;33m\u001B[0m\u001B[1;33m\u001B[0m\u001B[0m\n\u001B[0m\u001B[0;32m    115\u001B[0m \u001B[1;33m\u001B[0m\u001B[0m\n\u001B[0;32m    116\u001B[0m     \u001B[0mfig1\u001B[0m \u001B[1;33m=\u001B[0m \u001B[0mplt\u001B[0m\u001B[1;33m.\u001B[0m\u001B[0mfigure\u001B[0m\u001B[1;33m(\u001B[0m\u001B[1;36m2\u001B[0m\u001B[1;33m)\u001B[0m\u001B[1;33m;\u001B[0m\u001B[1;33m\u001B[0m\u001B[1;33m\u001B[0m\u001B[0m\n",
      "\u001B[1;31mKeyboardInterrupt\u001B[0m: "
     ]
    }
   ],
   "source": [
    "z = 0\n",
    "E = np.copy(E_s)\n",
    "Nz = 50\n",
    "dz = 0.5/50\n",
    "for idz in range(Nz):\n",
    "    plt.clf()\n",
    "\n",
    "    z = z + dz;\n",
    "    Ean = 1/(1 - z/f - 1j*z) * np.exp(-(nxy**2 + nyx**2)/2 *(1+1j*(z - 1/f *(1-z/f)))/((1-z/f)**2+z**2));\n",
    "    Eanprint = abs(Ean)**2;\n",
    "\n",
    "    # цикл по y с дифракцией по x\n",
    "    for idy in range(Ny):\n",
    "    # for idy in [Ny//2]:\n",
    "        Fx = np.zeros(Nx,dtype=complex);\n",
    "        alphax = np.zeros(Nx,dtype=complex);\n",
    "        betax = np.zeros(Nx,dtype=complex);\n",
    "        for idx in range(1,Nx-1):\n",
    "            Fx[idx] = -E[idx-1,idy] + 2 *(1 - dx**2/dz/hi) * E[idx,idy] - E[idx+1,idy];\n",
    "\n",
    "        Fx[0] = 0;\n",
    "        Fx[-1] = 0;\n",
    "\n",
    "        alphax[1] = -Cx[0]/Bx[0];\n",
    "        betax[1] = Fx[0]/Bx[0];\n",
    "\n",
    "        # for i in range(2,Nx-1):\n",
    "            # alphax[idx+1]= -Cx[idx]/(Ax[idx]*alphax[idx] + Bx[idx]);\n",
    "            # betax[idx+1] = alphax[idx+1]/Cx[idx]*(Ax(idx)*betax(idx) - Fx(idx));\n",
    "        '''решение по теории:'''\n",
    "        for i in range(1,Nx-1):\n",
    "        #     alphax[i+1] = -Cx[i]/Bx[i] * (1/(1+Ax[i]/Bx[i]*alphax[i]))\n",
    "        #     betax[i+1] = (Fx[i]-Ax[i]*betax[i])/(Ax[i]*alphax[i]+Bx[i])\n",
    "            alphax[i+1]= -Cx[i]/(Ax[i]*alphax[i] + Bx[i]);\n",
    "            betax[i+1] = alphax[i+1]/Cx[i]*(Ax[i]*betax[i] - Fx[i]);\n",
    "        #\n",
    "        '''решение из прошлого семестра'''\n",
    "        # for i in range(2,Nx):\n",
    "        #     alphax[i] = -Cx[i]/Bx[i] * 1/(1+Ax[i]/Bx[i]*alphax[i-1])\n",
    "        #     betax[i] = (Fx[i-1]-Ax[i]*betax[i-1])/(Ax[i]*alphax[i-1]+Bx[i])\n",
    "\n",
    "\n",
    "\n",
    "        E[-1,idy] = (Fx[-1] - Ax[-1]*betax[-1])/(Ax[-1]*alphax[-1] + Bx[-1]);\n",
    "        '''по теории'''\n",
    "        # for idx in range(Nx-1,0,-1):\n",
    "        #     E[idx-1,idy] = alphax[idx-1] * E[idx,idy] + betax[idx-1]\n",
    "        '''прошлый семестр'''\n",
    "        for idx in range(Nx-2 ,-1,-1):\n",
    "            # print(idx,idy)\n",
    "            E[idx,idy] = alphax[idx+1] * E[idx+1,idy] + betax[idx+1]\n",
    "    # figure(2);\n",
    "    # subplot(2,1,1);\n",
    "    # surf(nxy,nyx,abs(E).^2,linestyle = ':',edgecolor='none');\n",
    "    # xlabel('X')\n",
    "    # ylabel('Y')\n",
    "    # colorbar();\n",
    "    # axis square;\n",
    "    # title({['f=' num2str(f)];['z=' num2str(z)]});\n",
    "    #\n",
    "    # subplot(2,1,2)\n",
    "    # surf(nxy,nyx,abs(E),linestyle = ':',edgecolor='none');\n",
    "    # xlabel('X')\n",
    "    # ylabel('Y')\n",
    "    # colorbar();\n",
    "    # view(2);\n",
    "    # axis square;\n",
    "    ''' цикл по x с дифракцией по y '''\n",
    "    for idx in range(Nx):\n",
    "    # for idx in [Nx//2]:\n",
    "        Fy = np.zeros(Ny,dtype=complex);\n",
    "        alphay = np.zeros(Ny,dtype=complex);\n",
    "        betay = np.zeros(Ny,dtype=complex);\n",
    "        for idy in range(2,Ny-1):\n",
    "            Fy[idy] = -E[idx,idy-1] + 2 *(1 - dy**2/dz/hi) * E[idx,idy] - E[idx,idy+1];\n",
    "\n",
    "        Fy[0] = 0;\n",
    "        Fy[-1] = 0;\n",
    "\n",
    "        alphay[1] = -Cy[0]/By[0];\n",
    "        betay[1] = Fy[0]/By[0];\n",
    "\n",
    "        # for idy in\n",
    "        #     alphay(idy+1)= -Cy(idy)/(Ay(idy)*alphay(idy) + By(idy));\n",
    "        #     betay(idy+1) = alphay(idy+1)/Cy(idy)*(Ay(idy)*betay(idy) - Fy(idy));\n",
    "        '''решение по теории:'''\n",
    "        for i in range(1,Ny-1):\n",
    "        #     # alphay[i+1] = -Cy[i]/By[i] * 1/(1+Ay[i]/By[i]*alphay[i])\n",
    "        #     # betay[i+1] = (Fy[i-1]-Ay[i]*betay[i])/(Ay[i]*alphay[i]+By[i])\n",
    "            alphay[i+1]= -Cy[i]/(Ay[i]*alphay[i] + By[i]);\n",
    "            betay[i+1] = alphay[i+1]/Cy[i]*(Ay[i]*betay[i] - Fy[i]);\n",
    "        '''решение из прошлого семестра'''\n",
    "        # for i in range(2,Ny):\n",
    "        #     alphay[i] = -Cy[i]/By[i] * 1/(1+Ay[i]/By[i]*alphay[i-1])\n",
    "        #     betay[i] = (Fy[i-1]-Ay[i]*betay[i-1])/(Ay[i]*alphay[i-1]+By[i])\n",
    "\n",
    "        E[idx,-1] = (Fy[-1] - Ay[-1]*betay[-1])/(Ay[-1]*alphay[-1] + By[-1]);\n",
    "        '''по теории'''\n",
    "        # for idy in range(Ny-1,0,-1):\n",
    "        #     E[idx,idy-1] = alphay[idy-1] * E[idx,idy] + betay[idy-1];\n",
    "        '''прошлый семестр'''\n",
    "        for idy in range(Ny-2,-1,-1):\n",
    "            E[idx,idy] = alphay[idy+1] * E[idx,idy+1] + betay[idy+1]\n",
    "\n",
    "            # for i in range(1,Nx):\n",
    "            #     alphax[i+1] = -Cx[i]/Bx[i] * 1/(1+Ax[i]/Bx[i]*alphax[i])\n",
    "            #     betax[i+1] = (Fx[i]-Ax[i]*betax[i])/(Ax[i]*alphax[i]+Bx[i])\n",
    "            #\n",
    "            #\n",
    "            # E[-1,idy] = (Fx[-1] - Ax[-1]*betax[-1])/(Ax[-1]*alphax[-1] + Bx[-1]);\n",
    "            # for idx in range(Nx-1,-1,-1):\n",
    "            #     E[idx-1,idy] = alphax[idx] * E[idx,idy] + betax[idx]\n",
    "\n",
    "    Ep = np.abs(E)**2;\n",
    "\n",
    "    fig1 = plt.figure(2);\n",
    "    ax21 = fig1.add_subplot(2,2,1,projection='3d')\n",
    "    ax21.plot_surface(nxy,nyx,Eanprint,linestyle = ':',edgecolor='none',cmap=cm.coolwarm);\n",
    "    plt.xlabel('X')\n",
    "    plt.ylabel('Y')\n",
    "    # plt.colorbar();\n",
    "    # axis square;\n",
    "    plt.title(f'Analytic with z={z:0.2f}\\n f={f}\\t step={idz+1}/{Nz}');\n",
    "\n",
    "    ax22 = fig1.add_subplot(2,2,3)\n",
    "    ims21 = ax22.pcolormesh(nxy,nyx,Eanprint,linestyle = ':',edgecolor='none',cmap=cm.coolwarm);\n",
    "    ax22.set_aspect('equal', adjustable='box')\n",
    "    # plt.xlabel('X')\n",
    "    # plt.ylabel('Y')\n",
    "    plt.colorbar(ims21);\n",
    "    plt.title(f'Analytic z ={z:0.2f}');\n",
    "    # axis square;\n",
    "    # plt.view(2);\n",
    "\n",
    "    ax23 = fig1.add_subplot(2,2,2,projection='3d')\n",
    "    ax23.plot_surface(nxy,nyx,Ep,linestyle = ':',edgecolor='none',cmap=cm.coolwarm);\n",
    "    plt.xlabel('X')\n",
    "    plt.ylabel('Y')\n",
    "    # plt.colorbar();\n",
    "    # axis square;\n",
    "    plt.title(f'z={z:0.2f}\\n f={f}');\n",
    "\n",
    "    ax24 = fig1.add_subplot(2,2,4)\n",
    "    ims22 = ax24.pcolormesh(nxy,nyx,Ep,linestyle = ':',edgecolor='none',cmap=cm.coolwarm);\n",
    "    ax24.set_aspect('equal', adjustable='box')\n",
    "    plt.xlabel('X')\n",
    "    plt.ylabel('Y')\n",
    "    plt.colorbar(ims22);\n",
    "    # plt.view(2);\n",
    "    # axis square;\n",
    "    plt.pause(0.1)\n",
    "    # plt.clf()\n",
    "# fig1.show(2)\n"
   ]
  },
  {
   "cell_type": "code",
   "execution_count": 224,
   "metadata": {
    "pycharm": {
     "name": "#%%\n"
    }
   },
   "outputs": [],
   "source": []
  },
  {
   "cell_type": "code",
   "execution_count": 224,
   "metadata": {
    "pycharm": {
     "name": "#%%\n"
    }
   },
   "outputs": [],
   "source": []
  }
 ],
 "metadata": {
  "kernelspec": {
   "display_name": "Python 3 (ipykernel)",
   "language": "python",
   "name": "python3"
  },
  "language_info": {
   "codemirror_mode": {
    "name": "ipython",
    "version": 3
   },
   "file_extension": ".py",
   "mimetype": "text/x-python",
   "name": "python",
   "nbconvert_exporter": "python",
   "pygments_lexer": "ipython3",
   "version": "3.9.7"
  }
 },
 "nbformat": 4,
 "nbformat_minor": 1
}